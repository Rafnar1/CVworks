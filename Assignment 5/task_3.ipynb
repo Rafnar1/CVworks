{
 "cells": [
  {
   "cell_type": "code",
   "execution_count": 57,
   "metadata": {},
   "outputs": [],
   "source": [
    "import numpy as np\n",
    "import tensorflow as tf\n",
    "from matplotlib import pyplot as plt"
   ]
  },
  {
   "cell_type": "code",
   "execution_count": 58,
   "metadata": {},
   "outputs": [],
   "source": [
    "np.random.seed(0)"
   ]
  },
  {
   "cell_type": "code",
   "execution_count": 59,
   "metadata": {},
   "outputs": [],
   "source": [
    "def display_sample(sample):\n",
    "    plt.figure(figsize=(2, 2))\n",
    "    plt.imshow(sample, cmap='gray')\n",
    "    plt.show()"
   ]
  },
  {
   "cell_type": "code",
   "execution_count": 60,
   "metadata": {},
   "outputs": [],
   "source": [
    "tf.keras.datasets.mnist.load_data(path=\"mnist.npz\")\n",
    "\n",
    "(X_train, y_train), (X_test, y_test) = tf.keras.datasets.mnist.load_data()\n",
    "assert X_train.shape == (60000, 28, 28)\n",
    "assert X_test.shape == (10000, 28, 28)\n",
    "assert y_train.shape == (60000,)\n",
    "assert y_test.shape == (10000,)"
   ]
  },
  {
   "cell_type": "code",
   "execution_count": 61,
   "metadata": {},
   "outputs": [
    {
     "name": "stdout",
     "output_type": "stream",
     "text": [
      "Train X data shape: (48000, 28, 28, 1)\n",
      "Train y data shape: (48000,)\n",
      "Validation X data shape: (12000, 28, 28, 1)\n",
      "Validation y data shape: (12000,)\n",
      "Test X data shape: (10000, 28, 28, 1)\n",
      "Test y data shape: (10000,)\n"
     ]
    }
   ],
   "source": [
    "# 80% for train and 20% for validation\n",
    "\n",
    "# TODO: Split your (X_train, y_train) data into 2 parts: 80% is used for training (X_tr, y_tr) and 20% is used for validation (X_val, y_val).\n",
    "# Splitting your training data into training and validation is one of the best practices to handle underfitting and overfitting issues.\n",
    "# In general, you use the train data for training and the validation data for checking whether your model is overfitting or underfitting\n",
    "\n",
    "from sklearn.model_selection import train_test_split\n",
    "\n",
    "\n",
    "X_tr, X_val, y_tr, y_val = train_test_split(X_train, y_train, test_size=0.2, random_state=42)\n",
    "\n",
    "print(\"Train X data shape: %s\" % (X_tr.shape,))\n",
    "print(\"Train y data shape: %s\" % (y_tr.shape,))\n",
    "print(\"Validation X data shape: %s\" % (X_val.shape,))\n",
    "print(\"Validation y data shape: %s\" % (y_val.shape,))\n",
    "print(\"Test X data shape: %s\" % (X_test.shape,))\n",
    "print(\"Test y data shape: %s\" % (y_test.shape,))"
   ]
  },
  {
   "cell_type": "code",
   "execution_count": 62,
   "metadata": {},
   "outputs": [
    {
     "data": {
      "image/png": "[encoded data removed]",
      "text/plain": [
       "<Figure size 200x200 with 1 Axes>"
      ]
     },
     "metadata": {},
     "output_type": "display_data"
    },
    {
     "name": "stdout",
     "output_type": "stream",
     "text": [
      "Label: 3\n"
     ]
    }
   ],
   "source": [
    "display_sample(X_tr[0])\n",
    "print(\"Label: %s\" % y_tr[0])"
   ]
  },
  {
   "cell_type": "code",
   "execution_count": 63,
   "metadata": {},
   "outputs": [],
   "source": [
    "def normalize(X):\n",
    "    return X / 255"
   ]
  },
  {
   "cell_type": "code",
   "execution_count": 64,
   "metadata": {},
   "outputs": [],
   "source": [
    "X_tr_norm = normalize(X_tr)\n",
    "X_val_norm = normalize(X_val)\n",
    "X_test_norm = normalize(X_test)"
   ]
  },
  {
   "cell_type": "code",
   "execution_count": 65,
   "metadata": {},
   "outputs": [
    {
     "data": {
      "image/png": "[encoded data removed]",
      "text/plain": [
       "<Figure size 200x200 with 1 Axes>"
      ]
     },
     "metadata": {},
     "output_type": "display_data"
    },
    {
     "name": "stdout",
     "output_type": "stream",
     "text": [
      "Label: 3\n"
     ]
    }
   ],
   "source": [
    "display_sample(X_tr_norm[0])\n",
    "print(\"Label: %s\" % y_tr[0])"
   ]
  },
  {
   "cell_type": "code",
   "execution_count": 66,
   "metadata": {},
   "outputs": [],
   "source": [
    "# TODO: Build your own CNN model\n",
    "# Cant run Because of resourceExhaustionError\n",
    "\n",
    "\n",
    "model = tf.keras.Sequential([\n",
    "    tf.keras.layers.Conv2D(32, (3, 3), activation='relu', input_shape=(X_tr_norm.shape[1], X_tr_norm.shape[2], 1)),\n",
    "    \n",
    "    tf.keras.layers.MaxPooling2D((2, 2)),\n",
    "    \n",
    "    tf.keras.layers.Flatten(),\n",
    "    \n",
    "    tf.keras.layers.Dense(128, activation='relu'),\n",
    "    \n",
    "    tf.keras.layers.Dense(10, activation='softmax')\n",
    "])"
   ]
  },
  {
   "cell_type": "code",
   "execution_count": 67,
   "metadata": {},
   "outputs": [],
   "source": [
    "# You can adjust hyperparameters to the ones you need\n",
    "\n",
    "model.compile(optimizer='adam',\n",
    "              loss=tf.keras.losses.SparseCategoricalCrossentropy(),\n",
    "              metrics=['accuracy'])"
   ]
  },
  {
   "cell_type": "code",
   "execution_count": 68,
   "metadata": {},
   "outputs": [
    {
     "name": "stdout",
     "output_type": "stream",
     "text": [
      "Epoch 1/50\n"
     ]
    },
    {
     "name": "stderr",
     "output_type": "stream",
     "text": [
      "2023-12-11 20:59:59.583783: I tensorflow/core/grappler/optimizers/custom_graph_optimizer_registry.cc:114] Plugin optimizer for device_type GPU is enabled.\n"
     ]
    },
    {
     "name": "stdout",
     "output_type": "stream",
     "text": [
      "480/480 [==============================] - ETA: 0s - loss: 0.8884 - accuracy: 0.6821"
     ]
    },
    {
     "name": "stderr",
     "output_type": "stream",
     "text": [
      "2023-12-11 21:00:10.468246: I tensorflow/core/grappler/optimizers/custom_graph_optimizer_registry.cc:114] Plugin optimizer for device_type GPU is enabled.\n"
     ]
    },
    {
     "name": "stdout",
     "output_type": "stream",
     "text": [
      "480/480 [==============================] - 12s 24ms/step - loss: 0.8884 - accuracy: 0.6821 - val_loss: 0.2137 - val_accuracy: 0.9312\n",
      "Epoch 2/50\n",
      "480/480 [==============================] - 11s 23ms/step - loss: 0.1915 - accuracy: 0.9451 - val_loss: 0.0919 - val_accuracy: 0.9731\n",
      "Epoch 3/50\n",
      "480/480 [==============================] - 11s 22ms/step - loss: 0.1104 - accuracy: 0.9682 - val_loss: 0.0639 - val_accuracy: 0.9822\n",
      "Epoch 4/50\n",
      "480/480 [==============================] - 11s 22ms/step - loss: 0.0840 - accuracy: 0.9758 - val_loss: 0.0462 - val_accuracy: 0.9868\n",
      "Epoch 5/50\n",
      "480/480 [==============================] - 11s 22ms/step - loss: 0.0710 - accuracy: 0.9801 - val_loss: 0.0400 - val_accuracy: 0.9886\n",
      "Epoch 6/50\n",
      "480/480 [==============================] - 10s 21ms/step - loss: 0.0621 - accuracy: 0.9831 - val_loss: 0.0407 - val_accuracy: 0.9887\n",
      "Epoch 7/50\n",
      "480/480 [==============================] - 10s 22ms/step - loss: 0.0529 - accuracy: 0.9850 - val_loss: 0.0407 - val_accuracy: 0.9897\n",
      "Epoch 8/50\n",
      "480/480 [==============================] - 10s 22ms/step - loss: 0.0478 - accuracy: 0.9865 - val_loss: 0.0325 - val_accuracy: 0.9909\n",
      "Epoch 9/50\n",
      "480/480 [==============================] - 10s 22ms/step - loss: 0.0459 - accuracy: 0.9866 - val_loss: 0.0298 - val_accuracy: 0.9920\n",
      "Epoch 10/50\n",
      "480/480 [==============================] - 11s 22ms/step - loss: 0.0442 - accuracy: 0.9877 - val_loss: 0.0318 - val_accuracy: 0.9913\n",
      "Epoch 11/50\n",
      "480/480 [==============================] - 11s 22ms/step - loss: 0.0425 - accuracy: 0.9874 - val_loss: 0.0408 - val_accuracy: 0.9888\n",
      "Epoch 12/50\n",
      "480/480 [==============================] - 10s 21ms/step - loss: 0.0377 - accuracy: 0.9891 - val_loss: 0.0309 - val_accuracy: 0.9917\n",
      "Epoch 13/50\n",
      "480/480 [==============================] - 10s 21ms/step - loss: 0.0369 - accuracy: 0.9895 - val_loss: 0.0294 - val_accuracy: 0.9912\n",
      "Epoch 14/50\n",
      "480/480 [==============================] - 10s 21ms/step - loss: 0.0331 - accuracy: 0.9908 - val_loss: 0.0242 - val_accuracy: 0.9934\n",
      "Epoch 15/50\n",
      "480/480 [==============================] - 10s 21ms/step - loss: 0.0362 - accuracy: 0.9897 - val_loss: 0.0265 - val_accuracy: 0.9929\n",
      "Epoch 16/50\n",
      "480/480 [==============================] - 10s 21ms/step - loss: 0.0325 - accuracy: 0.9907 - val_loss: 0.0252 - val_accuracy: 0.9933\n",
      "Epoch 17/50\n",
      "480/480 [==============================] - 10s 21ms/step - loss: 0.0303 - accuracy: 0.9916 - val_loss: 0.0274 - val_accuracy: 0.9923\n",
      "Epoch 18/50\n",
      "480/480 [==============================] - 10s 21ms/step - loss: 0.0271 - accuracy: 0.9922 - val_loss: 0.0314 - val_accuracy: 0.9908\n",
      "Epoch 19/50\n",
      "480/480 [==============================] - 10s 21ms/step - loss: 0.0293 - accuracy: 0.9915 - val_loss: 0.0256 - val_accuracy: 0.9934\n",
      "Epoch 20/50\n",
      "480/480 [==============================] - 10s 21ms/step - loss: 0.0280 - accuracy: 0.9920 - val_loss: 0.0280 - val_accuracy: 0.9911\n",
      "Epoch 21/50\n",
      "480/480 [==============================] - 10s 21ms/step - loss: 0.0228 - accuracy: 0.9934 - val_loss: 0.0288 - val_accuracy: 0.9932\n",
      "Epoch 22/50\n",
      "480/480 [==============================] - 10s 21ms/step - loss: 0.0278 - accuracy: 0.9919 - val_loss: 0.0285 - val_accuracy: 0.9927\n",
      "Epoch 23/50\n",
      "480/480 [==============================] - 10s 22ms/step - loss: 0.0247 - accuracy: 0.9923 - val_loss: 0.0260 - val_accuracy: 0.9930\n",
      "Epoch 24/50\n",
      "480/480 [==============================] - 10s 21ms/step - loss: 0.0236 - accuracy: 0.9929 - val_loss: 0.0292 - val_accuracy: 0.9927\n",
      "Epoch 25/50\n",
      "480/480 [==============================] - 10s 21ms/step - loss: 0.0244 - accuracy: 0.9930 - val_loss: 0.0298 - val_accuracy: 0.9929\n",
      "Epoch 26/50\n",
      "480/480 [==============================] - 10s 22ms/step - loss: 0.0241 - accuracy: 0.9930 - val_loss: 0.0249 - val_accuracy: 0.9930\n",
      "Epoch 27/50\n",
      "480/480 [==============================] - 10s 21ms/step - loss: 0.0226 - accuracy: 0.9937 - val_loss: 0.0254 - val_accuracy: 0.9933\n",
      "Epoch 28/50\n",
      "480/480 [==============================] - 10s 21ms/step - loss: 0.0212 - accuracy: 0.9933 - val_loss: 0.0290 - val_accuracy: 0.9924\n",
      "Epoch 29/50\n",
      "480/480 [==============================] - 10s 21ms/step - loss: 0.0218 - accuracy: 0.9935 - val_loss: 0.0224 - val_accuracy: 0.9940\n",
      "Epoch 30/50\n",
      "480/480 [==============================] - 10s 21ms/step - loss: 0.0218 - accuracy: 0.9938 - val_loss: 0.0264 - val_accuracy: 0.9935\n",
      "Epoch 31/50\n",
      "480/480 [==============================] - 10s 21ms/step - loss: 0.0217 - accuracy: 0.9935 - val_loss: 0.0283 - val_accuracy: 0.9925\n",
      "Epoch 32/50\n",
      "480/480 [==============================] - 10s 21ms/step - loss: 0.0187 - accuracy: 0.9943 - val_loss: 0.0243 - val_accuracy: 0.9938\n",
      "Epoch 33/50\n",
      "480/480 [==============================] - 10s 21ms/step - loss: 0.0200 - accuracy: 0.9946 - val_loss: 0.0255 - val_accuracy: 0.9937\n",
      "Epoch 34/50\n",
      "480/480 [==============================] - 10s 21ms/step - loss: 0.0182 - accuracy: 0.9941 - val_loss: 0.0224 - val_accuracy: 0.9944\n",
      "Epoch 35/50\n",
      "480/480 [==============================] - 10s 21ms/step - loss: 0.0190 - accuracy: 0.9946 - val_loss: 0.0283 - val_accuracy: 0.9937\n",
      "Epoch 36/50\n",
      "480/480 [==============================] - 10s 21ms/step - loss: 0.0195 - accuracy: 0.9944 - val_loss: 0.0221 - val_accuracy: 0.9939\n",
      "Epoch 37/50\n",
      "480/480 [==============================] - 10s 21ms/step - loss: 0.0188 - accuracy: 0.9946 - val_loss: 0.0233 - val_accuracy: 0.9939\n",
      "Epoch 38/50\n",
      "480/480 [==============================] - 10s 21ms/step - loss: 0.0180 - accuracy: 0.9942 - val_loss: 0.0292 - val_accuracy: 0.9919\n",
      "Epoch 39/50\n",
      "480/480 [==============================] - 10s 21ms/step - loss: 0.0154 - accuracy: 0.9954 - val_loss: 0.0252 - val_accuracy: 0.9937\n",
      "Epoch 40/50\n",
      "480/480 [==============================] - 10s 20ms/step - loss: 0.0192 - accuracy: 0.9948 - val_loss: 0.0298 - val_accuracy: 0.9923\n",
      "Epoch 41/50\n",
      "480/480 [==============================] - 10s 20ms/step - loss: 0.0173 - accuracy: 0.9955 - val_loss: 0.0294 - val_accuracy: 0.9927\n",
      "Epoch 42/50\n",
      "480/480 [==============================] - 10s 20ms/step - loss: 0.0169 - accuracy: 0.9951 - val_loss: 0.0272 - val_accuracy: 0.9938\n",
      "Epoch 43/50\n",
      "480/480 [==============================] - 10s 20ms/step - loss: 0.0158 - accuracy: 0.9955 - val_loss: 0.0364 - val_accuracy: 0.9921\n",
      "Epoch 44/50\n",
      "480/480 [==============================] - 10s 20ms/step - loss: 0.0169 - accuracy: 0.9949 - val_loss: 0.0261 - val_accuracy: 0.9933\n",
      "Epoch 45/50\n",
      "480/480 [==============================] - 10s 20ms/step - loss: 0.0162 - accuracy: 0.9952 - val_loss: 0.0311 - val_accuracy: 0.9941\n",
      "Epoch 46/50\n",
      "480/480 [==============================] - 10s 20ms/step - loss: 0.0161 - accuracy: 0.9954 - val_loss: 0.0220 - val_accuracy: 0.9948\n",
      "Epoch 47/50\n",
      "480/480 [==============================] - 10s 20ms/step - loss: 0.0163 - accuracy: 0.9955 - val_loss: 0.0214 - val_accuracy: 0.9948\n",
      "Epoch 48/50\n",
      "480/480 [==============================] - 10s 21ms/step - loss: 0.0157 - accuracy: 0.9959 - val_loss: 0.0241 - val_accuracy: 0.9934\n",
      "Epoch 49/50\n",
      "480/480 [==============================] - 10s 21ms/step - loss: 0.0161 - accuracy: 0.9956 - val_loss: 0.0239 - val_accuracy: 0.9931\n",
      "Epoch 50/50\n",
      "480/480 [==============================] - 10s 20ms/step - loss: 0.0162 - accuracy: 0.9953 - val_loss: 0.0295 - val_accuracy: 0.9931\n"
     ]
    }
   ],
   "source": [
    "history = model.fit(X_tr_norm, y_tr, validation_data=(X_val_norm, y_val), batch_size=100, epochs=50)"
   ]
  },
  {
   "cell_type": "code",
   "execution_count": 69,
   "metadata": {},
   "outputs": [
    {
     "data": {
      "image/png": "[encoded data removed]",
      "text/plain": [
       "<Figure size 640x480 with 1 Axes>"
      ]
     },
     "metadata": {},
     "output_type": "display_data"
    }
   ],
   "source": [
    "plt.plot(history.history['loss'], label='loss')\n",
    "plt.plot(history.history['val_loss'], label = 'val_loss')\n",
    "plt.xlabel('Epoch')\n",
    "plt.ylabel('Loss')\n",
    "plt.show()"
   ]
  },
  {
   "cell_type": "code",
   "execution_count": 70,
   "metadata": {},
   "outputs": [
    {
     "data": {
      "image/png": "[encoded data removed]",
      "text/plain": [
       "<Figure size 640x480 with 1 Axes>"
      ]
     },
     "metadata": {},
     "output_type": "display_data"
    }
   ],
   "source": [
    "plt.plot(history.history['accuracy'], label='accuracy')\n",
    "plt.plot(history.history['val_accuracy'], label = 'val_accuracy')\n",
    "plt.xlabel('Epoch')\n",
    "plt.ylabel('Accuracy')\n",
    "plt.show()"
   ]
  },
  {
   "cell_type": "code",
   "execution_count": 72,
   "metadata": {},
   "outputs": [
    {
     "name": "stdout",
     "output_type": "stream",
     "text": [
      "375/375 [==============================] - 2s 4ms/step\n",
      "Accuracy (validation): 0.99308336\n"
     ]
    }
   ],
   "source": [
    "accuracy_metric = tf.keras.metrics.Accuracy()\n",
    "predictions = model.predict(X_val_norm).argmax(axis=1)\n",
    "\n",
    "print(\"Accuracy (validation): %s\" % accuracy_metric(predictions, y_val).numpy())"
   ]
  },
  {
   "cell_type": "code",
   "execution_count": 73,
   "metadata": {},
   "outputs": [
    {
     "name": "stdout",
     "output_type": "stream",
     "text": [
      " 12/313 [>.............................] - ETA: 1s "
     ]
    },
    {
     "name": "stderr",
     "output_type": "stream",
     "text": [
      "2023-12-11 21:09:02.712860: I tensorflow/core/grappler/optimizers/custom_graph_optimizer_registry.cc:114] Plugin optimizer for device_type GPU is enabled.\n"
     ]
    },
    {
     "name": "stdout",
     "output_type": "stream",
     "text": [
      "313/313 [==============================] - 2s 4ms/step\n",
      "Accuracy (Test): 0.9931\n"
     ]
    }
   ],
   "source": [
    "accuracy_metric = tf.keras.metrics.Accuracy()\n",
    "predictions = model.predict(X_test_norm).argmax(axis=1)\n",
    "\n",
    "print(\"Accuracy (Test): %s\" % accuracy_metric(predictions, y_test).numpy())"
   ]
  }
 ],
 "metadata": {
  "kernelspec": {
   "display_name": "cv",
   "language": "python",
   "name": "python3"
  },
  "language_info": {
   "codemirror_mode": {
    "name": "ipython",
    "version": 3
   },
   "file_extension": ".py",
   "mimetype": "text/x-python",
   "name": "python",
   "nbconvert_exporter": "python",
   "pygments_lexer": "ipython3",
   "version": "3.10.8"
  }
 },
 "nbformat": 4,
 "nbformat_minor": 2
}
